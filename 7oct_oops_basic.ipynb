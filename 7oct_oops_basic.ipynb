{
 "cells": [
  {
   "cell_type": "code",
   "execution_count": 1,
   "id": "7ad2c96c-7284-45bb-a661-d58b07450d80",
   "metadata": {},
   "outputs": [],
   "source": [
    "#Problem 1: Bank Account Create a class representing a bank account with attributes like account number, account holder name, and balance. Implement methods to deposit and withdraw money from the account.\n"
   ]
  },
  {
   "cell_type": "code",
   "execution_count": 2,
   "id": "c5ff51bf-3864-4032-b87d-ee29b9c3cd97",
   "metadata": {},
   "outputs": [],
   "source": [
    "class bank_account:\n",
    "    \n",
    "   \n",
    "    def __init__(self):\n",
    "        self.account_num = 12345678\n",
    "        self.account_hol_name = \"vishal rajput\"\n",
    "        self.balance = 2000\n",
    "        \n",
    "    def account_num(self,account_num):\n",
    "        print(\"take account_num\" + self.account_num)\n",
    "        \n",
    "    def account_hol_name(self,account_hol_name):\n",
    "        print(\"take account_hol_name\" + self.account_hol_name)\n",
    "        \n",
    "    def balance(self,balance):\n",
    "        print(\"take balance\" + self.balance)\n",
    "        \n",
    "    def deposite(self):\n",
    "        amount = 100\n",
    "        if amount>0:\n",
    "            self.balance += amount\n",
    "            print(f\"you have deposite {amount} rupess \")\n",
    "            print(f\"you have new balance is {self.balance} rupess\")\n",
    "        else:\n",
    "            print(\"invalid amount please try again\")\n",
    "            \n",
    "    def withdraw_money(self):\n",
    "        amount = 100\n",
    "        if amount > 0 and amount <= self.balance:\n",
    "            self.balance -= amount\n",
    "            print(f\"please collect your cash of {amount} rupess\")\n",
    "            print(f\" your new balnace is {self.balance} rupess\")\n",
    "        else:\n",
    "            print(\"invalid amount. please try again.\")\n",
    "            \n",
    "        \n",
    "        \n",
    "            \n",
    "        \n",
    "    \n",
    "     \n",
    "        "
   ]
  },
  {
   "cell_type": "code",
   "execution_count": 3,
   "id": "97ee07c2-7071-4cc2-84a9-dff2c2e2399e",
   "metadata": {},
   "outputs": [
    {
     "data": {
      "text/plain": [
       "12345678"
      ]
     },
     "execution_count": 3,
     "metadata": {},
     "output_type": "execute_result"
    }
   ],
   "source": [
    "first_obj = bank_account()\n",
    "first_obj.account_num"
   ]
  },
  {
   "cell_type": "code",
   "execution_count": 4,
   "id": "ee420214-3633-4864-8b70-cbaa14edf1c7",
   "metadata": {},
   "outputs": [
    {
     "name": "stdout",
     "output_type": "stream",
     "text": [
      "you have deposite 100 rupess \n",
      "you have new balance is 2100 rupess\n"
     ]
    }
   ],
   "source": [
    "deposite = bank_account()\n",
    "deposite.deposite()"
   ]
  },
  {
   "cell_type": "code",
   "execution_count": 5,
   "id": "542b5bf8-c68c-4fc4-8379-c32c0527cdd3",
   "metadata": {},
   "outputs": [],
   "source": [
    "#Problem 2: Employee Management Create a class representing an employee with attributes like employee ID, name, and salary. Implement methods to calculate the yearly bonus and display employee details."
   ]
  },
  {
   "cell_type": "code",
   "execution_count": 6,
   "id": "9a86d827-5bfa-4041-b790-edebfffd9460",
   "metadata": {},
   "outputs": [],
   "source": [
    "class employee:\n",
    "    def __init__(self,userid,password):\n",
    "        self.userid = userid\n",
    "        self.name = name\n",
    "        \n",
    "    def yearly_bonus(self):\n",
    "        \n",
    "        diff=current_year-join_year\n",
    "        if(diff>3):\n",
    "            print(\"Bonus of Rs : 2500 /-\");\n",
    "        else:\n",
    "            print(\"No Bonus..\")\n",
    "    \n"
   ]
  },
  {
   "cell_type": "code",
   "execution_count": 7,
   "id": "7b7bb022-1cb3-437b-ae54-3dfb64e17303",
   "metadata": {},
   "outputs": [
    {
     "name": "stdin",
     "output_type": "stream",
     "text": [
      "Enter the Current Year : 3\n",
      "Enter the Year of Joining : 3\n"
     ]
    },
    {
     "name": "stdout",
     "output_type": "stream",
     "text": [
      "name 'yearly_bonus' is not defined\n"
     ]
    }
   ],
   "source": [
    "try:\n",
    "    \n",
    "    current_year=int(input(\"Enter the Current Year :\"))\n",
    "    join_year=int(input(\"Enter the Year of Joining :\"))\n",
    "    diff=current_year-join_year\n",
    "    yearly_bonus(diff)\n",
    "except Exception as e:\n",
    "    print(e)\n",
    "\n",
    "    "
   ]
  },
  {
   "cell_type": "code",
   "execution_count": 15,
   "id": "93f8dd4b-21ab-49ed-a423-34ecc123648f",
   "metadata": {},
   "outputs": [],
   "source": [
    "#Problem 3: Vehicle Rental Create a class representing a vehicle rental system. Implement methods to rent a vehicle, return a vehicle, and display available vehicles."
   ]
  },
  {
   "cell_type": "code",
   "execution_count": 16,
   "id": "554c966a-6504-4926-acc0-7fdec5824f83",
   "metadata": {},
   "outputs": [],
   "source": [
    "class vehical_rental_system:\n",
    "    def rent_vehicle():\n",
    "        print('vehicles avialable in 5lac')\n",
    "        \n",
    "    def avilable():\n",
    "        print(\"avilable company is odd\")"
   ]
  },
  {
   "cell_type": "code",
   "execution_count": 17,
   "id": "dc7bd5c2-9861-46d3-8221-0ee5d302310a",
   "metadata": {},
   "outputs": [
    {
     "name": "stdout",
     "output_type": "stream",
     "text": [
      "vehicles avialable in 5lac\n"
     ]
    }
   ],
   "source": [
    "a = vehical_rental_system\n",
    "a.rent_vehicle()"
   ]
  },
  {
   "cell_type": "code",
   "execution_count": 18,
   "id": "3aa390e9-4aae-4d9a-92f7-dee75a0b7137",
   "metadata": {},
   "outputs": [],
   "source": [
    "#Problem 4: Library Catalog Create classes representing a library and a book. Implement methods to add books to the library, borrow books, and display available books."
   ]
  },
  {
   "cell_type": "code",
   "execution_count": 19,
   "id": "47f81f4a-8f8f-44ec-8a5e-5c05e58d2f18",
   "metadata": {},
   "outputs": [],
   "source": [
    "class library:\n",
    "    def add_book():\n",
    "        print(\"book added to library\")\n",
    "        \n",
    "    def desplay_book():\n",
    "        print(\"book added to library\")"
   ]
  },
  {
   "cell_type": "code",
   "execution_count": 20,
   "id": "db98bdf3-e72d-4383-b955-c6aacc4037c8",
   "metadata": {},
   "outputs": [
    {
     "name": "stdout",
     "output_type": "stream",
     "text": [
      "book added to library\n"
     ]
    }
   ],
   "source": [
    "a = library\n",
    "a.add_book()"
   ]
  },
  {
   "cell_type": "code",
   "execution_count": 21,
   "id": "cfe202af-c36e-4293-8b1a-319564f17bca",
   "metadata": {},
   "outputs": [],
   "source": [
    "#Problem 5: Product Inventory Create classes representing a product and an inventory system. Implement methods to add products to the inventory, update product quantity, and display available products."
   ]
  },
  {
   "cell_type": "code",
   "execution_count": 22,
   "id": "b83661c1-0d49-4965-84cd-6b141fde040c",
   "metadata": {},
   "outputs": [],
   "source": [
    "class inventer_system:\n",
    "    def product():\n",
    "        print(\"quantuti is 27627\")\n",
    "        \n",
    "    def display():\n",
    "        print(\"9080\")"
   ]
  },
  {
   "cell_type": "code",
   "execution_count": 23,
   "id": "3f2b8c12-27b9-4293-bf48-ec2066928d80",
   "metadata": {},
   "outputs": [
    {
     "name": "stdout",
     "output_type": "stream",
     "text": [
      "quantuti is 27627\n"
     ]
    }
   ],
   "source": [
    "a = inventer_system\n",
    "a.product()"
   ]
  },
  {
   "cell_type": "code",
   "execution_count": 24,
   "id": "bc7d0fa8-70e7-472c-b0a2-3cf8764fc48f",
   "metadata": {},
   "outputs": [],
   "source": [
    "#Problem 6: Shape Calculation Create a class representing a shape with attributes like length, width, and height. Implement methods to calculate the area and perimeter of the shape."
   ]
  },
  {
   "cell_type": "code",
   "execution_count": 25,
   "id": "bd58da03-f8e9-4e80-bfa5-3152ea869fdb",
   "metadata": {},
   "outputs": [],
   "source": [
    "class shape:\n",
    "    def area(self,w,h):\n",
    "        area = w*h\n",
    "        print(\"the area of shape\", area)\n",
    "    \n",
    "\n",
    "class circle(shape):\n",
    "    def area_of_circle(self,r):\n",
    "        area1 = 3.14*r**2\n",
    "        print(\"the area of circle is\",area1)\n",
    "        \n",
    "class rectangle(circle):\n",
    "    def area_of_rectangle(w,h):\n",
    "        area = w*h\n",
    "        print(\"the area of shape\", area)\n",
    "    \n",
    "        "
   ]
  },
  {
   "cell_type": "code",
   "execution_count": 30,
   "id": "f848e065-abc0-4004-92bf-9513a28d3a62",
   "metadata": {},
   "outputs": [
    {
     "name": "stdout",
     "output_type": "stream",
     "text": [
      "the area of shape 2\n"
     ]
    }
   ],
   "source": [
    "a = rectangle()\n",
    "a.area(1,2)"
   ]
  },
  {
   "cell_type": "code",
   "execution_count": 31,
   "id": "ac49e1c1-3eb4-4d78-b6f1-122c2fd7e522",
   "metadata": {},
   "outputs": [],
   "source": [
    "#Problem 7: Student Management Create a class representing a student with attributes like student ID, name, and grades. Implement methods to calculate the average grade and display student details."
   ]
  },
  {
   "cell_type": "code",
   "execution_count": 3,
   "id": "7e7547d7-387e-4973-b5fc-1eda01945142",
   "metadata": {},
   "outputs": [
    {
     "name": "stdout",
     "output_type": "stream",
     "text": [
      "\n",
      "Operations used, \n",
      "\n",
      "1.Accept Student details\n",
      "2.Display Student Details\n",
      "3.Search Details of a Student\n",
      "4.Delete Details of Student\n",
      "5.Update Student Details\n",
      "6.Exit\n",
      "\n",
      "\n",
      "\n",
      "List of Students\n",
      "\n",
      "Name :  A\n",
      "RollNo :  1\n",
      "Marks1 :  100\n",
      "Marks2 :  100\n",
      "\n",
      "\n",
      "Name :  B\n",
      "RollNo :  2\n",
      "Marks1 :  90\n",
      "Marks2 :  90\n",
      "\n",
      "\n",
      "Name :  C\n",
      "RollNo :  3\n",
      "Marks1 :  80\n",
      "Marks2 :  80\n",
      "\n",
      "\n",
      "\n",
      " Student Found, \n",
      "Name :  B\n",
      "RollNo :  2\n",
      "Marks1 :  90\n",
      "Marks2 :  90\n",
      "\n",
      "\n",
      "2\n",
      "List after deletion\n",
      "Name :  A\n",
      "RollNo :  1\n",
      "Marks1 :  100\n",
      "Marks2 :  100\n",
      "\n",
      "\n",
      "Name :  C\n",
      "RollNo :  3\n",
      "Marks1 :  80\n",
      "Marks2 :  80\n",
      "\n",
      "\n",
      "2\n",
      "List after updation\n",
      "Name :  A\n",
      "RollNo :  1\n",
      "Marks1 :  100\n",
      "Marks2 :  100\n",
      "\n",
      "\n",
      "Name :  C\n",
      "RollNo :  2\n",
      "Marks1 :  80\n",
      "Marks2 :  80\n",
      "\n",
      "\n",
      "Thank You !\n"
     ]
    }
   ],
   "source": [
    "class Student:\n",
    " \n",
    "  # Constructor\n",
    "    def __init__(self, name, rollno, m1, m2):\n",
    "        self.name = name\n",
    "        self.rollno = rollno\n",
    "        self.m1 = m1\n",
    "        self.m2 = m2\n",
    " \n",
    "    # Function to create and append new student\n",
    "    def accept(self, Name, Rollno, marks1, marks2):\n",
    "   \n",
    "  # use ' int(input()) ' method to take input from user\n",
    "        ob = Student(Name, Rollno, marks1, marks2)\n",
    "        ls.append(ob)\n",
    " \n",
    "    # Function to display student details\n",
    "    def display(self, ob):\n",
    "        print(\"Name : \", ob.name)\n",
    "        print(\"RollNo : \", ob.rollno)\n",
    "        print(\"Marks1 : \", ob.m1)\n",
    "        print(\"Marks2 : \", ob.m2)\n",
    "        print(\"\\n\")\n",
    " \n",
    "    # Search Function\n",
    "    def search(self, rn):\n",
    "        for i in range(ls.__len__()):\n",
    "            if(ls[i].rollno == rn):\n",
    "                return i\n",
    " \n",
    "    # Delete Function\n",
    "    def delete(self, rn):\n",
    "        i = obj.search(rn)\n",
    "        del ls[i]\n",
    " \n",
    "    # Update Function\n",
    "    def update(self, rn, No):\n",
    "        i = obj.search(rn)\n",
    "        roll = No\n",
    "        ls[i].rollno = roll\n",
    " \n",
    " \n",
    "# Create a list to add Students\n",
    "ls = []\n",
    "# an object of Student class\n",
    "obj = Student('', 0, 0, 0)\n",
    " \n",
    "print(\"\\nOperations used, \")\n",
    "print(\"\\n1.Accept Student details\\n2.Display Student Details\\n3.Search Details of a Student\\n4.Delete Details of Student\\n5.Update Student Details\\n6.Exit\")\n",
    " \n",
    "# ch = int(input(\"Enter choice:\"))\n",
    "# if(ch == 1):\n",
    "obj.accept(\"A\", 1, 100, 100)\n",
    "obj.accept(\"B\", 2, 90, 90)\n",
    "obj.accept(\"C\", 3, 80, 80)\n",
    " \n",
    "# elif(ch == 2):\n",
    "print(\"\\n\")\n",
    "print(\"\\nList of Students\\n\")\n",
    "for i in range(ls.__len__()):\n",
    "    obj.display(ls[i])\n",
    " \n",
    "# elif(ch == 3):\n",
    "print(\"\\n Student Found, \")\n",
    "s = obj.search(2)\n",
    "obj.display(ls[s])\n",
    " \n",
    "# elif(ch == 4):\n",
    "obj.delete(2)\n",
    "print(ls.__len__())\n",
    "print(\"List after deletion\")\n",
    "for i in range(ls.__len__()):\n",
    "    obj.display(ls[i])\n",
    " \n",
    "# elif(ch == 5):\n",
    "obj.update(3, 2)\n",
    "print(ls.__len__())\n",
    "print(\"List after updation\")\n",
    "for i in range(ls.__len__()):\n",
    "    obj.display(ls[i])\n",
    " \n",
    "# else:\n",
    "print(\"Thank You !\")"
   ]
  },
  {
   "cell_type": "code",
   "execution_count": 5,
   "id": "1c361303-2d5c-4d85-9d21-518b20e2bf85",
   "metadata": {},
   "outputs": [],
   "source": [
    "#problem 8. Email Management Create a class representing an email with attributes like sender, recipient, and subject. Implement methods to send an email and display email details.\n"
   ]
  },
  {
   "cell_type": "code",
   "execution_count": 6,
   "id": "ccdc6d79-021d-4a72-9321-3aa5178e04a4",
   "metadata": {},
   "outputs": [
    {
     "name": "stdout",
     "output_type": "stream",
     "text": [
      "To: someone_else@example.com\n",
      "From: Foo Bar <user@example.com>\n",
      "Subject: Test message\n",
      "Recipient username: someone_else\n",
      "Sender name: Foo Bar\n"
     ]
    }
   ],
   "source": [
    "from email.parser import Parser\n",
    "from email.policy import default\n",
    "\n",
    "# If the e-mail headers are in a file, uncomment these two lines:\n",
    "# with open(messagefile, 'rb') as fp:\n",
    "#     headers = BytesParser(policy=default).parse(fp)\n",
    "\n",
    "#  Or for parsing headers in a string (this is an uncommon operation), use:\n",
    "headers = Parser(policy=default).parsestr(\n",
    "        'From: Foo Bar <user@example.com>\\n'\n",
    "        'To: <someone_else@example.com>\\n'\n",
    "        'Subject: Test message\\n'\n",
    "        '\\n'\n",
    "        'Body would go here\\n')\n",
    "\n",
    "#  Now the header items can be accessed as a dictionary:\n",
    "print('To: {}'.format(headers['to']))\n",
    "print('From: {}'.format(headers['from']))\n",
    "print('Subject: {}'.format(headers['subject']))\n",
    "\n",
    "# You can also access the parts of the addresses:\n",
    "print('Recipient username: {}'.format(headers['to'].addresses[0].username))\n",
    "print('Sender name: {}'.format(headers['from'].addresses[0].display_name))"
   ]
  },
  {
   "cell_type": "code",
   "execution_count": 7,
   "id": "b3380477-8e4e-46db-9804-4d6d6b268054",
   "metadata": {},
   "outputs": [],
   "source": [
    "#Problem 9: Social Media Profile Create a class representing a social media profile with attributes like username and posts. Implement methods to add posts, display posts, and search for posts by keyword.\n"
   ]
  },
  {
   "cell_type": "code",
   "execution_count": null,
   "id": "13445597-cf9d-42d7-8f0f-7deef2a79287",
   "metadata": {},
   "outputs": [],
   "source": []
  },
  {
   "cell_type": "code",
   "execution_count": 9,
   "id": "a396e52b-d9fc-4356-bebc-dad2533f521a",
   "metadata": {},
   "outputs": [],
   "source": [
    "#Problem 10: ToDo List Create a class representing a ToDo list with attributes like tasks and due dates. Implement methods to add tasks, mark tasks as completed, and display pending tasks."
   ]
  },
  {
   "cell_type": "code",
   "execution_count": 10,
   "id": "ef454f89-5b2c-482f-b4a3-76db1881fabb",
   "metadata": {},
   "outputs": [
    {
     "data": {
      "text/plain": [
       "[1, 2, 3, 4, 5, 6]"
      ]
     },
     "execution_count": 10,
     "metadata": {},
     "output_type": "execute_result"
    }
   ],
   "source": [
    "\n",
    "class list_ops:\n",
    "    \n",
    "    \n",
    "    def __init__(vish,l):                 #doonder function = it can be used to pass a data\n",
    "        vish.l2 = l\n",
    "        vish.l3= 40\n",
    "        vish.l4 = 'uhvu'\n",
    "        vish.l5 = (2,3,4,5)\n",
    "        vish.l6 = {'key':'value'}\n",
    "        \n",
    "    def extractfromindex(self,l,index):\n",
    "        return l[index]\n",
    "    \n",
    "    def extractrangedata(self,l,start,end):\n",
    "        return l[start:end]\n",
    "    \n",
    "    def extractevennum(self,l):\n",
    "        l1 = []\n",
    "        for i in  l:\n",
    "            if i%2 ==0:\n",
    "                l1.append(i)\n",
    "        return l1\n",
    "    \n",
    "    \n",
    "                \n",
    "second_obj= list_ops([1,2,3,4,5,6])\n",
    "second_obj.l2"
   ]
  },
  {
   "cell_type": "code",
   "execution_count": null,
   "id": "280d7928-7d55-4bb2-9910-4c9b75253e70",
   "metadata": {},
   "outputs": [],
   "source": []
  }
 ],
 "metadata": {
  "kernelspec": {
   "display_name": "Python 3 (ipykernel)",
   "language": "python",
   "name": "python3"
  },
  "language_info": {
   "codemirror_mode": {
    "name": "ipython",
    "version": 3
   },
   "file_extension": ".py",
   "mimetype": "text/x-python",
   "name": "python",
   "nbconvert_exporter": "python",
   "pygments_lexer": "ipython3",
   "version": "3.10.8"
  }
 },
 "nbformat": 4,
 "nbformat_minor": 5
}
